{
 "cells": [
  {
   "cell_type": "markdown",
   "id": "1394b8ef-4906-408a-b096-79e5b242d5fb",
   "metadata": {},
   "source": [
    "# Conversor de arquivo TXT em SRT.\n",
    "#### Texto para CapCut"
   ]
  },
  {
   "cell_type": "code",
   "execution_count": 2,
   "id": "02f33930-c76d-451f-951e-f21ea96dae4f",
   "metadata": {},
   "outputs": [],
   "source": [
    "import codecs\n",
    "\n",
    "def texto_para_srt(arquivo_txt, arquivo_srt, max_caracteres=450, min_caracteres=400, fps=30, duracao_total=3600, encoding='utf-8'):\n",
    "    \"\"\"\n",
    "    Converte um arquivo de texto em um arquivo SRT.\n",
    "\n",
    "    Args:\n",
    "        arquivo_txt (str): Caminho para o arquivo de texto.\n",
    "        arquivo_srt (str): Caminho para o arquivo SRT de saída.\n",
    "        max_caracteres (int, opcional): Número máximo de caracteres por linha. Defaults to 450.\n",
    "        min_caracteres (int, opcional): Número mínimo de caracteres por linha. Defaults to 400.\n",
    "        fps (int, opcional): Taxa de frames por segundo do vídeo. Defaults to 30.\n",
    "        duracao_total (int): Duração total do vídeo em segundos.\n",
    "        encoding (str, opcional): Codificação de caracteres. Defaults to 'utf-8'.\n",
    "    \"\"\"\n",
    "\n",
    "    with codecs.open(arquivo_txt, 'r', encoding=encoding) as f:\n",
    "        texto = f.read()\n",
    "\n",
    "    blocos = []\n",
    "    bloco_atual = \"\"\n",
    "    caractere_contador = 0\n",
    "\n",
    "    for palavra in texto.split():\n",
    "        if caractere_contador + len(palavra) + 1 > max_caracteres:\n",
    "            blocos.append(bloco_atual.strip())\n",
    "            bloco_atual = palavra + \" \"\n",
    "            caractere_contador = len(palavra) + 1\n",
    "        else:\n",
    "            bloco_atual += palavra + \" \"\n",
    "            caractere_contador += len(palavra) + 1\n",
    "\n",
    "    if bloco_atual:\n",
    "        blocos.append(bloco_atual.strip())\n",
    "\n",
    "    # Calcula a duração de cada bloco com base na duração total e no número de blocos\n",
    "    duracao_bloco = duracao_total / len(blocos)\n",
    "\n",
    "    with codecs.open(arquivo_srt, 'w', encoding=encoding) as f:\n",
    "        for i, bloco in enumerate(blocos):\n",
    "            inicio = i * duracao_bloco\n",
    "            fim = (i + 1) * duracao_bloco\n",
    "\n",
    "            # Inicializa horas com 0 para cada cálculo\n",
    "            horas = 0\n",
    "            minutos, segundos = divmod(inicio, 3600)\n",
    "            horas_fim = 0\n",
    "            minutos_fim, segundos_fim = divmod(fim, 3600)\n",
    "\n",
    "            ms = int((segundos - int(segundos)) * 1000)\n",
    "            ms_fim = int((segundos_fim - int(segundos_fim)) * 1000)\n",
    "\n",
    "            f.write(f\"{i+1}\\n\")\n",
    "            f.write(f\"{int(horas):02d}:{int(minutos):02d}:{int(segundos):02d},{ms:03d} --> {int(horas_fim):02d}:{int(minutos_fim):02d}:{int(segundos_fim):02d},{ms_fim:03d}\\n\")\n",
    "            f.write(f\"{bloco}\\n\\n\")"
   ]
  },
  {
   "cell_type": "code",
   "execution_count": 3,
   "id": "cbf7acf3-dfaf-4057-b674-bfb1bddc1a36",
   "metadata": {},
   "outputs": [],
   "source": [
    "texto_para_srt('O lugar que Não Existe.txt', 'O lugar que Não Existe STRxx.srt', max_caracteres=400, min_caracteres=410)"
   ]
  },
  {
   "cell_type": "code",
   "execution_count": null,
   "id": "ecf8da7e-53ec-414f-845c-2df5724ab87b",
   "metadata": {},
   "outputs": [],
   "source": []
  }
 ],
 "metadata": {
  "kernelspec": {
   "display_name": "Pycaret",
   "language": "python",
   "name": "pycaret"
  },
  "language_info": {
   "codemirror_mode": {
    "name": "ipython",
    "version": 3
   },
   "file_extension": ".py",
   "mimetype": "text/x-python",
   "name": "python",
   "nbconvert_exporter": "python",
   "pygments_lexer": "ipython3",
   "version": "3.9.20"
  }
 },
 "nbformat": 4,
 "nbformat_minor": 5
}
